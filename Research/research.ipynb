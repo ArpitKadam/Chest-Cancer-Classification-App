{
 "cells": [
  {
   "cell_type": "markdown",
   "id": "3a08d85c",
   "metadata": {},
   "source": [
    "# **DATA RELATED STUFF**"
   ]
  },
  {
   "cell_type": "code",
   "execution_count": 13,
   "id": "3c39d1d3",
   "metadata": {},
   "outputs": [
    {
     "name": "stdout",
     "output_type": "stream",
     "text": [
      "Warning: Looks like you're using an outdated `kagglehub` version, please consider updating (latest version: 0.3.12)\n",
      "Downloading from https://www.kaggle.com/api/v1/datasets/download/mohamedhanyyy/chest-ctscan-images?dataset_version_number=1...\n"
     ]
    },
    {
     "name": "stderr",
     "output_type": "stream",
     "text": [
      "100%|██████████| 119M/119M [00:19<00:00, 6.25MB/s] "
     ]
    },
    {
     "name": "stdout",
     "output_type": "stream",
     "text": [
      "Extracting model files...\n"
     ]
    },
    {
     "name": "stderr",
     "output_type": "stream",
     "text": [
      "\n"
     ]
    },
    {
     "name": "stdout",
     "output_type": "stream",
     "text": [
      "Path to dataset files: C:\\Users\\arpit\\.cache\\kagglehub\\datasets\\mohamedhanyyy\\chest-ctscan-images\\versions\\1\n"
     ]
    }
   ],
   "source": [
    "import kagglehub\n",
    "\n",
    "# Download latest version\n",
    "path = kagglehub.dataset_download(\"mohamedhanyyy/chest-ctscan-images\")\n",
    "\n",
    "print(\"Path to dataset files:\", path)"
   ]
  },
  {
   "cell_type": "code",
   "execution_count": 14,
   "id": "c374db48",
   "metadata": {},
   "outputs": [
    {
     "data": {
      "text/plain": [
       "'C:\\\\Projects\\\\Chest-Cancer-Classification-App\\\\1'"
      ]
     },
     "execution_count": 14,
     "metadata": {},
     "output_type": "execute_result"
    }
   ],
   "source": [
    "import shutil\n",
    "shutil.move(path, \"C:\\Projects\\Chest-Cancer-Classification-App\")"
   ]
  },
  {
   "cell_type": "code",
   "execution_count": 18,
   "id": "f2716464",
   "metadata": {},
   "outputs": [],
   "source": [
    "import gdown \n",
    "\n",
    "file_id = \"1Rfn_h7aGCgpSAuZJVm2oGM31Rl6f2Xs3\"\n",
    "url = f\"https://drive.google.com/uc?/export=download&id={file_id}\""
   ]
  },
  {
   "cell_type": "code",
   "execution_count": 23,
   "id": "f761cf31",
   "metadata": {},
   "outputs": [
    {
     "name": "stdout",
     "output_type": "stream",
     "text": [
      "https://drive.google.com/uc?/export=download&id=1Rfn_h7aGCgpSAuZJVm2oGM31Rl6f2Xs3\n"
     ]
    }
   ],
   "source": [
    "print(url)"
   ]
  },
  {
   "cell_type": "code",
   "execution_count": 19,
   "id": "ea44080e",
   "metadata": {},
   "outputs": [
    {
     "name": "stderr",
     "output_type": "stream",
     "text": [
      "Downloading...\n",
      "From (original): https://drive.google.com/uc?/export=download&id=1Rfn_h7aGCgpSAuZJVm2oGM31Rl6f2Xs3\n",
      "From (redirected): https://drive.google.com/uc?%2Fexport=download&id=1Rfn_h7aGCgpSAuZJVm2oGM31Rl6f2Xs3&confirm=t&uuid=1e2b5a97-2cbe-4fa6-9d2c-33d48180ff0b\n",
      "To: c:\\Projects\\Chest-Cancer-Classification-App\\Research\\Chest-Data.zip\n",
      "100%|██████████| 124M/124M [00:18<00:00, 6.57MB/s] \n"
     ]
    },
    {
     "data": {
      "text/plain": [
       "'Chest-Data.zip'"
      ]
     },
     "execution_count": 19,
     "metadata": {},
     "output_type": "execute_result"
    }
   ],
   "source": [
    "gdown.download(url, \"Chest-Data.zip\")"
   ]
  },
  {
   "cell_type": "code",
   "execution_count": null,
   "id": "ffef7c10",
   "metadata": {},
   "outputs": [],
   "source": []
  },
  {
   "cell_type": "markdown",
   "id": "a502c7e7",
   "metadata": {},
   "source": [
    "# **DATA INGESTION STEP**"
   ]
  },
  {
   "cell_type": "code",
   "execution_count": 20,
   "id": "104e6cd5",
   "metadata": {},
   "outputs": [
    {
     "data": {
      "text/plain": [
       "'c:\\\\Projects\\\\Chest-Cancer-Classification-App\\\\Research'"
      ]
     },
     "execution_count": 20,
     "metadata": {},
     "output_type": "execute_result"
    }
   ],
   "source": [
    "%pwd"
   ]
  },
  {
   "cell_type": "code",
   "execution_count": 21,
   "id": "19c40246",
   "metadata": {},
   "outputs": [],
   "source": [
    "import os\n",
    "os.chdir(\"../\")"
   ]
  },
  {
   "cell_type": "code",
   "execution_count": 22,
   "id": "99f5daf8",
   "metadata": {},
   "outputs": [
    {
     "data": {
      "text/plain": [
       "'c:\\\\Projects\\\\Chest-Cancer-Classification-App'"
      ]
     },
     "execution_count": 22,
     "metadata": {},
     "output_type": "execute_result"
    }
   ],
   "source": [
    "%pwd"
   ]
  },
  {
   "cell_type": "markdown",
   "id": "2b687aa8",
   "metadata": {},
   "source": [
    "### Constants"
   ]
  },
  {
   "cell_type": "code",
   "execution_count": 25,
   "id": "648f7a2f",
   "metadata": {},
   "outputs": [],
   "source": [
    "from pathlib import Path\n",
    "\n",
    "CONFIG_FILE_PATH = Path(\"config/config.yaml\")\n",
    "PARAMS_FILE_PATH = Path(\"params.yaml\")"
   ]
  },
  {
   "cell_type": "markdown",
   "id": "f142c501",
   "metadata": {},
   "source": [
    "### Config.yaml\n",
    "\n",
    "- artifacts_root: artifacts\n",
    "\n",
    "- data_ingestion:\n",
    "  - root_dir: artifacts/data_ingestion\n",
    "  - source_url: https://drive.google.com/uc?/export=download&id=1Rfn_h7aGCgpSAuZJVm2oGM31Rl6f2Xs3\n",
    "  - data_dir: artifacts/data_ingestion/data.zip\n",
    "  - unzip_dir: artifacts/data_ingestion"
   ]
  },
  {
   "cell_type": "markdown",
   "id": "b141eaf4",
   "metadata": {},
   "source": [
    "### CONFIG ENTITY"
   ]
  },
  {
   "cell_type": "code",
   "execution_count": 26,
   "id": "bef85d5d",
   "metadata": {},
   "outputs": [],
   "source": [
    "from dataclasses import dataclass\n",
    "from pathlib import Path\n",
    "\n",
    "@dataclass(frozen=True)\n",
    "class DataIngestionConfig:\n",
    "    root_dir: Path\n",
    "    source_url: str\n",
    "    data_dir: Path\n",
    "    unzip_dir: Path"
   ]
  },
  {
   "cell_type": "markdown",
   "id": "d742120b",
   "metadata": {},
   "source": [
    "### CONFIGURATION"
   ]
  },
  {
   "cell_type": "code",
   "execution_count": null,
   "id": "50a88b21",
   "metadata": {},
   "outputs": [],
   "source": [
    "from src.logger import logger\n",
    "from src.exception import CustomException\n",
    "from src.constants import CONFIG_FILE_PATH, PARAMS_FILE_PATH\n",
    "from src.utils import create_directories, read_yaml\n",
    "## from src.entity.config_entity import DataIngestionConfig\n",
    "\n",
    "class AppConfig:\n",
    "    def __init__(self):\n",
    "        self.config_filepath = CONFIG_FILE_PATH\n",
    "        self.params_filepath = PARAMS_FILE_PATH\n",
    "\n",
    "        self.config = read_yaml(self.config_filepath)\n",
    "        self.params = read_yaml(self.params_filepath)\n",
    "\n",
    "        create_directories([self.config.artifacts_root])   ### Now always pass path to this function as list\n",
    "    \n",
    "    def get_data_ingestion_config(self) -> DataIngestionConfig:\n",
    "        config = self.config.data_ingestion\n",
    "\n",
    "        create_directories([config.root_dir])              ### Now always pass path to this function as list\n",
    "\n",
    "        data_ingestion_config = DataIngestionConfig(\n",
    "            root_dir = config.root_dir,\n",
    "            source_url = config.source_url,\n",
    "            data_dir = config.data_dir,\n",
    "            unzip_dir = config.unzip_dir\n",
    "        )\n",
    "        \n",
    "        return data_ingestion_config"
   ]
  },
  {
   "cell_type": "markdown",
   "id": "8e191639",
   "metadata": {},
   "source": [
    "### COMPONENTS"
   ]
  },
  {
   "cell_type": "code",
   "execution_count": null,
   "id": "97771f06",
   "metadata": {},
   "outputs": [],
   "source": [
    "from src.logger import logger\n",
    "from src.exception import CustomException\n",
    "import gdown\n",
    "import os, sys\n",
    "import zipfile\n",
    "## from src.configuration.configuration import AppConfig\n",
    "\n",
    "class DataIngestion:\n",
    "    def __init__(self, config: DataIngestionConfig):\n",
    "        self.config = config\n",
    "\n",
    "    def download_data(self) -> str:\n",
    "        try:\n",
    "            root_dir = self.config.root_dir\n",
    "            data_url = self.config.source_url\n",
    "            zip_download_dir = self.config.data_dir\n",
    "\n",
    "            create_directories([root_dir])            ### Now always pass path to this function as list\n",
    "\n",
    "            gdown.download(data_url, zip_download_dir)\n",
    "\n",
    "        except Exception as e:\n",
    "            raise CustomException(e, sys)\n",
    "    \n",
    "    def unzip_data(self):\n",
    "        try:\n",
    "            unzip_dir = self.config.unzip_dir\n",
    "            zip_download_dir = self.config.data_dir\n",
    "\n",
    "            create_directories([unzip_dir])             ### Now always pass path to this function as list\n",
    "\n",
    "            with zipfile.ZipFile(zip_download_dir, 'r') as zip_ref:\n",
    "                zip_ref.extractall(unzip_dir)\n",
    "\n",
    "        except Exception as e:\n",
    "            raise CustomException(e, sys)"
   ]
  },
  {
   "cell_type": "markdown",
   "id": "c69d8034",
   "metadata": {},
   "source": [
    "### PIELINE"
   ]
  },
  {
   "cell_type": "code",
   "execution_count": 38,
   "id": "fd4f9fa8",
   "metadata": {},
   "outputs": [
    {
     "name": "stderr",
     "output_type": "stream",
     "text": [
      "\u001b[32m[2025-06-25 04:01:12]   19 | INFO     | yaml file: config\\config.yaml loaded successfully\u001b[0m\n",
      "\u001b[32m[2025-06-25 04:01:12]   19 | INFO     | yaml file: params.yaml loaded successfully\u001b[0m\n",
      "Downloading...\n",
      "From (original): https://drive.google.com/uc?/export=download&id=1Rfn_h7aGCgpSAuZJVm2oGM31Rl6f2Xs3\n",
      "From (redirected): https://drive.google.com/uc?%2Fexport=download&id=1Rfn_h7aGCgpSAuZJVm2oGM31Rl6f2Xs3&confirm=t&uuid=5c07c6eb-c2b1-4613-b485-e79f90b567a0\n",
      "To: c:\\Projects\\Chest-Cancer-Classification-App\\artifacts\\data_ingestion\\data.zip\n",
      "100%|██████████| 124M/124M [00:18<00:00, 6.58MB/s] \n"
     ]
    }
   ],
   "source": [
    "## from src.configuration.configuration import AppConfig\n",
    "## from src.components.data_ingestion import DataIngestion\n",
    "import sys\n",
    "from src.logger import logger\n",
    "from src.exception import CustomException\n",
    "\n",
    "try:\n",
    "    config = AppConfig()\n",
    "    data_ingestion_config = config.get_data_ingestion_config()\n",
    "    data_ingestion_obj = DataIngestion(config=data_ingestion_config)\n",
    "    data_ingestion_obj.download_data()\n",
    "    data_ingestion_obj.unzip_data()\n",
    "except Exception as e:\n",
    "    raise CustomException(e, sys)"
   ]
  },
  {
   "cell_type": "code",
   "execution_count": null,
   "id": "af1860c1",
   "metadata": {},
   "outputs": [],
   "source": []
  },
  {
   "cell_type": "code",
   "execution_count": null,
   "id": "be3b83a8",
   "metadata": {},
   "outputs": [],
   "source": []
  }
 ],
 "metadata": {
  "kernelspec": {
   "display_name": "tensor",
   "language": "python",
   "name": "python3"
  },
  "language_info": {
   "codemirror_mode": {
    "name": "ipython",
    "version": 3
   },
   "file_extension": ".py",
   "mimetype": "text/x-python",
   "name": "python",
   "nbconvert_exporter": "python",
   "pygments_lexer": "ipython3",
   "version": "3.10.16"
  }
 },
 "nbformat": 4,
 "nbformat_minor": 5
}
